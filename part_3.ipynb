{
  "nbformat": 4,
  "nbformat_minor": 0,
  "metadata": {
    "colab": {
      "provenance": []
    },
    "kernelspec": {
      "name": "python3",
      "display_name": "Python 3"
    },
    "language_info": {
      "name": "python"
    }
  },
  "cells": [
    {
      "cell_type": "code",
      "execution_count": null,
      "metadata": {
        "id": "bxuTHqVrMDUV"
      },
      "outputs": [],
      "source": [
        "import gdown\n",
        "import os\n",
        "import pandas as pd\n",
        "from google.colab import drive\n",
        "# part 1\n",
        "import pandas as pd\n",
        "import numpy as np\n",
        "import re\n",
        "from wordcloud import WordCloud, STOPWORDS\n",
        "import nltk\n",
        "from nltk.tokenize import word_tokenize\n",
        "from nltk.corpus import stopwords\n",
        "from nltk.stem import WordNetLemmatizer\n",
        "from collections import Counter\n",
        "import pickle\n",
        "import gc\n",
        "from sklearn.model_selection import train_test_split\n",
        "from sklearn.preprocessing import LabelEncoder\n",
        "import tensorflow as tf\n",
        "from tensorflow.keras.callbacks import TensorBoard\n",
        "from tensorflow.keras.preprocessing.text import Tokenizer\n",
        "from tensorflow.keras.preprocessing.sequence import pad_sequences"
      ]
    },
    {
      "cell_type": "code",
      "source": [
        "df_train = pd.read_csv(\"/content/drive/MyDrive/Datasets/Amazon/train_data.csv\", low_memory=False)\n",
        "title_brand = pd.read_csv(\"/content/drive/MyDrive/Datasets/Amazon/title_brand.csv\", low_memory=False)\n",
        "test_df = pd.read_csv(\"/content/drive/MyDrive/Datasets/Amazon/test_data.csv\", low_memory=False)"
      ],
      "metadata": {
        "id": "Wh00h397MRNB"
      },
      "execution_count": null,
      "outputs": []
    },
    {
      "cell_type": "code",
      "source": [],
      "metadata": {
        "id": "xGzAlYNRMlqV"
      },
      "execution_count": null,
      "outputs": []
    }
  ]
}